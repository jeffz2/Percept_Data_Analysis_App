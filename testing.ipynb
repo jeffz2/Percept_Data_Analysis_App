{
 "cells": [
  {
   "cell_type": "code",
   "execution_count": 1,
   "id": "963797dc",
   "metadata": {},
   "outputs": [],
   "source": [
    "import generate_raw\n",
    "import process_data\n",
    "import model_data"
   ]
  },
  {
   "cell_type": "code",
   "execution_count": 2,
   "id": "f4ff891d",
   "metadata": {},
   "outputs": [],
   "source": [
    "raw_df, pt_changes_df, patient_dict = generate_raw.generate_raw('B001')"
   ]
  }
 ],
 "metadata": {
  "kernelspec": {
   "display_name": "percept_app",
   "language": "python",
   "name": "python3"
  },
  "language_info": {
   "codemirror_mode": {
    "name": "ipython",
    "version": 3
   },
   "file_extension": ".py",
   "mimetype": "text/x-python",
   "name": "python",
   "nbconvert_exporter": "python",
   "pygments_lexer": "ipython3",
   "version": "3.11.0"
  }
 },
 "nbformat": 4,
 "nbformat_minor": 5
}
